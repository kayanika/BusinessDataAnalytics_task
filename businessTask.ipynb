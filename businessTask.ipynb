{
 "cells": [
  {
   "cell_type": "code",
   "execution_count": 1,
   "id": "5048fde6",
   "metadata": {},
   "outputs": [],
   "source": [
    "import pandas as pd"
   ]
  },
  {
   "cell_type": "code",
   "execution_count": 2,
   "id": "15fbecb4",
   "metadata": {},
   "outputs": [
    {
     "data": {
      "text/plain": [
       "0                                        Cash Withdraw\n",
       "1                       Cash Withdrawal From A/C No.: \n",
       "2     Cash withdraw from Micro Merchant point, MM A/C \n",
       "3    Credit Against Merchant Cash Withdraw Service ...\n",
       "4     Cash withdraw from Micro Merchant point, MM A/C \n",
       "Name: NARATION, dtype: object"
      ]
     },
     "execution_count": 2,
     "metadata": {},
     "output_type": "execute_result"
    }
   ],
   "source": [
    "df= pd.read_csv(\"Transaction_Naration_Data_Set.csv\")\n",
    "df[\"NARATION\"].head(5)"
   ]
  },
  {
   "cell_type": "code",
   "execution_count": null,
   "id": "7d5fb87e",
   "metadata": {},
   "outputs": [],
   "source": []
  },
  {
   "cell_type": "code",
   "execution_count": 3,
   "id": "e2a78ff5",
   "metadata": {},
   "outputs": [
    {
     "data": {
      "text/plain": [
       "0                                        Cash Withdraw\n",
       "1                       Cash Withdrawal From A/C No.: \n",
       "2     Cash withdraw from Micro Merchant point, MM A/C \n",
       "3    Credit Against Merchant Cash Withdraw Service ...\n",
       "4     Cash withdraw from Micro Merchant point, MM A/C \n",
       "Name: NARATION, dtype: object"
      ]
     },
     "execution_count": 3,
     "metadata": {},
     "output_type": "execute_result"
    }
   ],
   "source": [
    "df[\"NARATION\"]=df[\"NARATION\"].str.replace(\"\\n\\t\",\" \")\n",
    "df[\"NARATION\"].head(5)"
   ]
  },
  {
   "cell_type": "code",
   "execution_count": 4,
   "id": "edcf941d",
   "metadata": {},
   "outputs": [
    {
     "data": {
      "text/plain": [
       "0                                        cash withdraw\n",
       "1                         cash withdrawal from a c no \n",
       "2      cash withdraw from micro merchant point mm a c \n",
       "3    credit against merchant cash withdraw service ...\n",
       "4      cash withdraw from micro merchant point mm a c \n",
       "Name: NARATION, dtype: object"
      ]
     },
     "execution_count": 4,
     "metadata": {},
     "output_type": "execute_result"
    }
   ],
   "source": [
    "df[\"NARATION\"]=df[\"NARATION\"].str.replace(\"[^a-zA-Z0-9]+\",\" \",regex=True)\n",
    "df[\"NARATION\"]=df[\"NARATION\"].str.lower()\n",
    "df[\"NARATION\"].head(5)"
   ]
  },
  {
   "cell_type": "code",
   "execution_count": 6,
   "id": "395f8e1d",
   "metadata": {
    "scrolled": true
   },
   "outputs": [],
   "source": [
    "df=df.dropna()"
   ]
  },
  {
   "cell_type": "code",
   "execution_count": 7,
   "id": "ae346d64",
   "metadata": {},
   "outputs": [
    {
     "name": "stderr",
     "output_type": "stream",
     "text": [
      "[nltk_data] Downloading package punkt to\n",
      "[nltk_data]     C:\\Users\\anika\\AppData\\Roaming\\nltk_data...\n",
      "[nltk_data]   Package punkt is already up-to-date!\n"
     ]
    },
    {
     "data": {
      "text/plain": [
       "True"
      ]
     },
     "execution_count": 7,
     "metadata": {},
     "output_type": "execute_result"
    }
   ],
   "source": [
    "import nltk\n",
    "nltk.download('punkt')"
   ]
  },
  {
   "cell_type": "code",
   "execution_count": 8,
   "id": "5605e165",
   "metadata": {},
   "outputs": [
    {
     "name": "stderr",
     "output_type": "stream",
     "text": [
      "[nltk_data] Downloading package wordnet to\n",
      "[nltk_data]     C:\\Users\\anika\\AppData\\Roaming\\nltk_data...\n",
      "[nltk_data]   Package wordnet is already up-to-date!\n",
      "[nltk_data] Downloading package omw-1.4 to\n",
      "[nltk_data]     C:\\Users\\anika\\AppData\\Roaming\\nltk_data...\n",
      "[nltk_data]   Package omw-1.4 is already up-to-date!\n"
     ]
    },
    {
     "data": {
      "text/plain": [
       "True"
      ]
     },
     "execution_count": 8,
     "metadata": {},
     "output_type": "execute_result"
    }
   ],
   "source": [
    "nltk.download('wordnet')\n",
    "nltk.download('omw-1.4')\n"
   ]
  },
  {
   "cell_type": "code",
   "execution_count": null,
   "id": "2e16116d",
   "metadata": {},
   "outputs": [],
   "source": [
    "tokenizer = nltk.tokenize.WhitespaceTokenizer()\n",
    "lemmatizer = nltk.stem.WordNetLemmatizer()\n",
    "def lemmatize(text):\n",
    "  return [lemmatizer.lemmatize(w) for w in tokenizer.tokenize(text)]\n",
    "\n",
    "df['NARATION'] = df['NARATION'].apply(lemmatize)"
   ]
  },
  {
   "cell_type": "code",
   "execution_count": 9,
   "id": "522074bc",
   "metadata": {},
   "outputs": [
    {
     "name": "stdout",
     "output_type": "stream",
     "text": [
      "['cash', 'withdraw']\n",
      "cash\n"
     ]
    }
   ],
   "source": [
    "print(df['NARATION'][0])\n",
    "print(df['NARATION'][0][0])"
   ]
  },
  {
   "cell_type": "code",
   "execution_count": 10,
   "id": "72736345",
   "metadata": {},
   "outputs": [
    {
     "name": "stderr",
     "output_type": "stream",
     "text": [
      "[nltk_data] Downloading package stopwords to\n",
      "[nltk_data]     C:\\Users\\anika\\AppData\\Roaming\\nltk_data...\n",
      "[nltk_data]   Package stopwords is already up-to-date!\n"
     ]
    },
    {
     "data": {
      "text/plain": [
       "True"
      ]
     },
     "execution_count": 10,
     "metadata": {},
     "output_type": "execute_result"
    }
   ],
   "source": [
    "from nltk.corpus import stopwords\n",
    "nltk.download('stopwords')"
   ]
  },
  {
   "cell_type": "code",
   "execution_count": 11,
   "id": "d573eac1",
   "metadata": {},
   "outputs": [],
   "source": [
    "stop_words = set(stopwords.words('english'))  \n",
    "def remove_stopwords(tokens_array):\n",
    "    tokens = [w for w in tokens_array if not w in stop_words]  \n",
    "    return tokens\n",
    "df['Removed_stop_words'] = df['NARATION'].apply(remove_stopwords)"
   ]
  },
  {
   "cell_type": "code",
   "execution_count": null,
   "id": "1efeb271",
   "metadata": {},
   "outputs": [],
   "source": [
    "df.to_csv('preprocessedCompletedData.csv', index=False)"
   ]
  },
  {
   "cell_type": "code",
   "execution_count": null,
   "id": "051f44e1",
   "metadata": {},
   "outputs": [],
   "source": [
    "df2=pd.read_csv(\"preprocessedCompletedData.csv\")"
   ]
  },
  {
   "cell_type": "code",
   "execution_count": null,
   "id": "98b91765",
   "metadata": {
    "scrolled": true
   },
   "outputs": [],
   "source": [
    "#df2[\"Removed_stop_words\"]=df[\"Removed_stop_words\"].str.replace(\"[^a-zA-Z0-9]+\",\" \",regex=True)\n",
    "#df2[\"Removed_stop_words\"].head(5)                             "
   ]
  },
  {
   "cell_type": "code",
   "execution_count": null,
   "id": "27fe93dd",
   "metadata": {},
   "outputs": [],
   "source": [
    "#df['Removed_stop_words'].head(5)"
   ]
  },
  {
   "cell_type": "code",
   "execution_count": null,
   "id": "69155076",
   "metadata": {},
   "outputs": [],
   "source": [
    "#type(df2[\"Removed_stop_words\"][0][0])"
   ]
  },
  {
   "cell_type": "code",
   "execution_count": null,
   "id": "de6d9013",
   "metadata": {},
   "outputs": [],
   "source": [
    "#listOfTokens=df2[\"Removed_stop_words\"].tolist()\n"
   ]
  },
  {
   "cell_type": "code",
   "execution_count": 12,
   "id": "257936ed",
   "metadata": {},
   "outputs": [
    {
     "data": {
      "text/plain": [
       "[['cash', 'withdraw'],\n",
       " ['cash', 'withdrawal', 'c'],\n",
       " ['cash', 'withdraw', 'micro', 'merchant', 'point', 'mm', 'c'],\n",
       " ['credit', 'merchant', 'cash', 'withdraw', 'service', 'c'],\n",
       " ['cash', 'withdraw', 'micro', 'merchant', 'point', 'mm', 'c']]"
      ]
     },
     "execution_count": 12,
     "metadata": {},
     "output_type": "execute_result"
    }
   ],
   "source": [
    "listOfTokens=df['Removed_stop_words'].tolist()\n",
    "listOfTokens[:5]"
   ]
  },
  {
   "cell_type": "code",
   "execution_count": 13,
   "id": "b72defe0",
   "metadata": {},
   "outputs": [],
   "source": [
    "import gensim"
   ]
  },
  {
   "cell_type": "code",
   "execution_count": 14,
   "id": "111f1f2c",
   "metadata": {},
   "outputs": [],
   "source": [
    "from gensim.models import Word2Vec\n",
    "model=Word2Vec(listOfTokens,min_count=1)"
   ]
  },
  {
   "cell_type": "code",
   "execution_count": 15,
   "id": "1423e2ca",
   "metadata": {},
   "outputs": [],
   "source": [
    "import numpy as np"
   ]
  },
  {
   "cell_type": "code",
   "execution_count": null,
   "id": "91447d48",
   "metadata": {},
   "outputs": [],
   "source": [
    "df[\"vectors\"]=df['Removed_stop_words'].apply(lambda x:[model.wv.get_vector(word,norm=True) for word in x])"
   ]
  },
  {
   "cell_type": "code",
   "execution_count": null,
   "id": "7217b88f",
   "metadata": {},
   "outputs": [],
   "source": [
    "# def mean_word2vec(text, model_, vector_size=100):\n",
    "#     sum = np.zeros(vector_size)\n",
    "#     cnt = 1\n",
    "#     for word in text:\n",
    "#         sum+=model_.wv[word]\n",
    "#         cnt+=1\n",
    "#     return sum/cnt\n",
    "\n",
    "# def word_to_vec(array_of_tokens):\n",
    "#     # Create Skip Gram model for each row in the column\n",
    "        \n",
    "# #       calculate average vector of this array\n",
    "#         model_ = gensim.models.Word2Vec(array_of_tokens, min_count = 1, vector_size = 100,\n",
    "#                                              window = 5, sg = 1)\n",
    "# #         calculate the mean vector of this array of vectors\n",
    "#         mean_word2vec(array_of_tokens,model_)\n",
    "     \n",
    "# df['VECTOR_NARATION'] = df['Removed_stop_words'].apply(word_to_vec)\n",
    "# print(df['VECTOR_NARATION'][0])"
   ]
  },
  {
   "cell_type": "code",
   "execution_count": null,
   "id": "0e1309cc",
   "metadata": {},
   "outputs": [],
   "source": [
    "# def meanVector(vectors):\n",
    "#     vec1=np.zeroes(100)\n",
    "#     cnt=0\n",
    "#     for v in vectors\n",
    "#         cnt=1\n",
    "#         vec1+=v\n",
    "#     res=vec1/3\n",
    "#     return res"
   ]
  },
  {
   "cell_type": "code",
   "execution_count": null,
   "id": "7a34126b",
   "metadata": {},
   "outputs": [],
   "source": [
    "# df[\"avgVec\"]=df[\"vectors\"].apply(meanVector)"
   ]
  },
  {
   "cell_type": "code",
   "execution_count": null,
   "id": "bd49a0bf",
   "metadata": {},
   "outputs": [],
   "source": [
    "# df['vectors'][0]\n",
    "# df['avgVec'][0]"
   ]
  },
  {
   "cell_type": "code",
   "execution_count": null,
   "id": "eb23ecba",
   "metadata": {},
   "outputs": [],
   "source": []
  },
  {
   "cell_type": "code",
   "execution_count": null,
   "id": "a7339a01",
   "metadata": {},
   "outputs": [],
   "source": [
    "from sklearn.cluster import Kmeans\n",
    "km = KMeans(n_clusters=12)\n",
    "km = km.fit(df['avg_vec'].tolist())"
   ]
  },
  {
   "cell_type": "code",
   "execution_count": null,
   "id": "eea68222",
   "metadata": {},
   "outputs": [],
   "source": [
    "def pred(vec) :\n",
    "    p=kmeans.predict(vec.reshape(1,-1))\n",
    "    return p"
   ]
  }
 ],
 "metadata": {
  "kernelspec": {
   "display_name": "Python 3 (ipykernel)",
   "language": "python",
   "name": "python3"
  },
  "language_info": {
   "codemirror_mode": {
    "name": "ipython",
    "version": 3
   },
   "file_extension": ".py",
   "mimetype": "text/x-python",
   "name": "python",
   "nbconvert_exporter": "python",
   "pygments_lexer": "ipython3",
   "version": "3.9.2"
  }
 },
 "nbformat": 4,
 "nbformat_minor": 5
}
